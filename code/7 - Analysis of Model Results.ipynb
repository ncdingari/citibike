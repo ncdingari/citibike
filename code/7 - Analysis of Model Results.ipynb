{
 "cells": [
  {
   "cell_type": "code",
   "execution_count": 6,
   "metadata": {},
   "outputs": [
    {
     "name": "stdout",
     "output_type": "stream",
     "text": [
      "modules imported\n"
     ]
    }
   ],
   "source": [
    "from IPython.core.interactiveshell import InteractiveShell\n",
    "InteractiveShell.ast_node_interactivity = \"all\"\n",
    "\n",
    "import numpy as np\n",
    "import pandas as pd\n",
    "import matplotlib.cm\n",
    "import matplotlib.pyplot as plt\n",
    "import matplotlib.ticker as tkr\n",
    "\n",
    "import matplotlib.lines as mlines\n",
    "import matplotlib.dates as mdates\n",
    "import matplotlib.cbook as cbook\n",
    "import time\n",
    "import json\n",
    "import random\n",
    "import datetime as dt\n",
    "\n",
    "print(\"modules imported\")\n",
    "\n",
    "randomSeed = 1984\n",
    "\n",
    "pathWeather = \"/users/sajudson/Dropbox/WPI/DS504/project/citibike/weather/\"\n",
    "pathData = \"/users/sajudson/Dropbox/WPI/DS504/project/citibike/data/\"\n",
    "pathFigure = \"/users/sajudson/Dropbox/WPI/DS504/project/citibike/figures/\"\n",
    "\n",
    "#load expriment dictionary\n",
    "with open(pathFigure+\"experiments.json\",\"r\") as f:\n",
    "    experiments = json.load(f)\n",
    "\n",
    "file_type = \"csv\"\n",
    "\n",
    "plt.style.use('ggplot')"
   ]
  },
  {
   "cell_type": "code",
   "execution_count": 7,
   "metadata": {},
   "outputs": [
    {
     "data": {
      "text/plain": [
       "'1301'"
      ]
     },
     "execution_count": 7,
     "metadata": {},
     "output_type": "execute_result"
    }
   ],
   "source": [
    "col = list(experiments.keys())\n",
    "col[-18]"
   ]
  },
  {
   "cell_type": "code",
   "execution_count": 8,
   "metadata": {},
   "outputs": [],
   "source": [
    "df_experiments = pd.DataFrame.from_dict(experiments)"
   ]
  },
  {
   "cell_type": "code",
   "execution_count": 9,
   "metadata": {},
   "outputs": [
    {
     "data": {
      "text/plain": [
       "Index(['featureInputCols', 'linkFunctionLabel', 'normalize', 'rSquared',\n",
       "       'regressionMethodName', 'rmse', 'station', 'trainSplitMethod',\n",
       "       'varianceExplained', 'version'],\n",
       "      dtype='object')"
      ]
     },
     "execution_count": 9,
     "metadata": {},
     "output_type": "execute_result"
    },
    {
     "data": {
      "text/plain": [
       "Int64Index([  51,   54,   57,   61,   63,   65,   67,   69,   71,   72,\n",
       "            ...\n",
       "            1311, 1312, 1313, 1314, 1315, 1317, 1318, 1319, 1320, 1321],\n",
       "           dtype='int64', length=212)"
      ]
     },
     "execution_count": 9,
     "metadata": {},
     "output_type": "execute_result"
    },
    {
     "data": {
      "text/plain": [
       "featureInputCols        179\n",
       "linkFunctionLabel       179\n",
       "normalize               179\n",
       "rSquared                179\n",
       "regressionMethodName    179\n",
       "rmse                    179\n",
       "station                 179\n",
       "trainSplitMethod        179\n",
       "varianceExplained       179\n",
       "version                 179\n",
       "dtype: int64"
      ]
     },
     "execution_count": 9,
     "metadata": {},
     "output_type": "execute_result"
    }
   ],
   "source": [
    "df1 = df_experiments.T\n",
    "df1.columns\n",
    "df1.index = df1.index.astype('int')\n",
    "df1.index\n",
    "df3 = df1.loc[df1.index >1040]\n",
    "df3.count()"
   ]
  },
  {
   "cell_type": "code",
   "execution_count": 10,
   "metadata": {},
   "outputs": [
    {
     "data": {
      "text/plain": [
       "[<matplotlib.lines.Line2D at 0x11789d438>]"
      ]
     },
     "execution_count": 10,
     "metadata": {},
     "output_type": "execute_result"
    },
    {
     "data": {
      "image/png": "[encoded data removed]",
      "text/plain": [
       "<Figure size 432x288 with 1 Axes>"
      ]
     },
     "metadata": {},
     "output_type": "display_data"
    }
   ],
   "source": [
    "\n",
    "plt.plot(df1.varianceExplained, df1.rmse, 'ro',linewidth=0)\n"
   ]
  },
  {
   "cell_type": "code",
   "execution_count": 11,
   "metadata": {},
   "outputs": [
    {
     "data": {
      "text/plain": [
       "[<matplotlib.lines.Line2D at 0x1187a1ef0>]"
      ]
     },
     "execution_count": 11,
     "metadata": {},
     "output_type": "execute_result"
    },
    {
     "data": {
      "image/png": "[encoded data removed]",
      "text/plain": [
       "<Figure size 432x288 with 1 Axes>"
      ]
     },
     "metadata": {},
     "output_type": "display_data"
    }
   ],
   "source": [
    "plt.plot(df3.varianceExplained, df3.rmse, 'ro',linewidth=0)\n"
   ]
  },
  {
   "cell_type": "code",
   "execution_count": null,
   "metadata": {},
   "outputs": [],
   "source": [
    "stationList =[72, 116, 119, 143, 150, 152, 153, 161, 168, 195, 238, 244, 245,\n",
    "              252, 255, 259, 260, 275, 278, 279, 280, 285, 289, 307, 312, 319, \n",
    "              322, 324, 344, 346, 347, 348, 349, 351, 365, 369, 373, 395, 409, \n",
    "              416, 445, 454, 457, 460, 461, 467, 468, 472, 488, 490, 500, 526, \n",
    "              530, 534, 536, 537, 2002, 2003, 2004, 2012, 2017, 3002, 3041, 3049, \n",
    "              3052, 3061, 3073, 3075, 3076, 3077, 3078, 3098, 3102, 3105, 3107, \n",
    "              3113, 3120, 3121, 3123, 3124, 3135, 3140, 3148, 3150, 3158, 3165, \n",
    "              3166, 3175, 3219, 3224, 3241, 3246, 3249, 3255, 3283, 3296, 3306, \n",
    "              3308, 3311, 3312, 3315, 3318, 3322, 3330, 3333, 3338, 3341, 3342, \n",
    "              3344, 3346, 3347, 3348, 3353, 3354, 3357, 3359, 3368, 3369, 3373, \n",
    "              3376, 3383, 3387, 3392, 3393, 3396, 3397, 3407, 3415, 3417, 3424, \n",
    "              3427, 3441, 3447, 3459, 3464, 3467, 3478, 3496, 3497, 3498, 3508, \n",
    "              3510, 3513, 3516, 3522, 3525, 3528, 3536, 3541, 3551, 3559, 3560, \n",
    "              3561, 3563, 3564, 3568, 3570, 3571, 3576, 3580, 3586, 3599, 3601, \n",
    "              3604, 3606, 3613, 3615, 3617, 3620, 3631, 3632, 3644, 3647, 3648, \n",
    "              3654, 3658, 3666, 3671, 3675, 3680]"
   ]
  }
 ],
 "metadata": {
  "kernelspec": {
   "display_name": "Python 3",
   "language": "python",
   "name": "python3"
  },
  "language_info": {
   "codemirror_mode": {
    "name": "ipython",
    "version": 3
   },
   "file_extension": ".py",
   "mimetype": "text/x-python",
   "name": "python",
   "nbconvert_exporter": "python",
   "pygments_lexer": "ipython3",
   "version": "3.7.0"
  }
 },
 "nbformat": 4,
 "nbformat_minor": 2
}

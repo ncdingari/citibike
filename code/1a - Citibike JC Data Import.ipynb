{
 "cells": [
  {
   "cell_type": "markdown",
   "metadata": {},
   "source": [
    "# Citibike NYC Data Import and Preliminary Sampling\n",
    "\n",
    "This workbook imports 3 years of Citibike NYC trip data and merges it into a singe data dataframe\n",
    "The dataframe is then sampled and saved to disk\n",
    "\n"
   ]
  },
  {
   "cell_type": "code",
   "execution_count": 1,
   "metadata": {},
   "outputs": [
    {
     "name": "stdout",
     "output_type": "stream",
     "text": [
      "modules imported\n"
     ]
    }
   ],
   "source": [
    "import zipfile\n",
    "import numpy as np\n",
    "import pandas as pd\n",
    "import matplotlib.cm\n",
    "import matplotlib.pyplot as plt\n",
    "import matplotlib.ticker as tkr\n",
    "import matplotlib.lines as mlines\n",
    "import matplotlib.dates as mdates\n",
    "import matplotlib.cbook as cbook\n",
    "import time\n",
    "\n",
    "\n",
    "tripSample = 100\n",
    "tripSampleFraction = tripSample/100\n",
    "\n",
    "randomSeed = 1984\n",
    "\n",
    "filenameOutputCSV = \"citibikeJCRaw_sample_\"+str(tripSample)+\".csv\"\n",
    "    \n",
    "\n",
    "import datetime as dt\n",
    "print(\"modules imported\")\n",
    "\n",
    "plt.style.use('ggplot')\n",
    "\n",
    "figurepath = \"//users/sajudson/Dropbox/WPI/DS504/project/figures/\"\n",
    "zipdatapath = \"//users/sajudson/Dropbox/WPI/DS504/project/rawdata/\"\n",
    "csvdatapath = \"//users/sajudson/Dropbox/WPI/DS504/project/data/\"\n"
   ]
  },
  {
   "cell_type": "code",
   "execution_count": 2,
   "metadata": {},
   "outputs": [
    {
     "name": "stdout",
     "output_type": "stream",
     "text": [
      "201510 0.29903483390808105 (19264, 15)\n",
      "201511 0.12492895126342773 (15113, 15)\n",
      "201512 0.13523006439208984 (11838, 15)\n",
      "201601 0.09601497650146484 (7479, 15)\n",
      "201602 0.08999395370483398 (8250, 15)\n",
      "201603 0.12415790557861328 (13511, 15)\n",
      "201604 0.17754483222961426 (16342, 15)\n",
      "201605 0.22548317909240723 (19488, 15)\n",
      "201606 0.2295210361480713 (23947, 15)\n",
      "201607 0.2661261558532715 (24436, 15)\n",
      "201608 0.45172572135925293 (34149, 15)\n",
      "201609 0.384692907333374 (33425, 15)\n",
      "201610 0.3733959197998047 (29611, 15)\n",
      "201611 0.21273183822631836 (21832, 15)\n",
      "201612 0.1336808204650879 (15114, 15)\n",
      "201701 0.12158703804016113 (12926, 15)\n",
      "201702 0.12669706344604492 (14026, 15)\n",
      "201703 0.10839700698852539 (12201, 15)\n",
      "201704 0.20169878005981445 (21186, 15)\n",
      "201705 0.2953190803527832 (25966, 15)\n",
      "201706 0.3302452564239502 (32060, 15)\n",
      "201707 0.33341002464294434 (33573, 15)\n",
      "201708 0.37822914123535156 (35472, 15)\n",
      "201709 0.31734275817871094 (33119, 15)\n",
      "201710 0.3418726921081543 (34919, 15)\n",
      "201711 0.16228294372558594 (23582, 15)\n",
      "201712 0.12061285972595215 (15898, 15)\n",
      "201801 0.0861959457397461 (12677, 15)\n",
      "201802 0.1313939094543457 (15104, 15)\n",
      "201803 0.18612408638000488 (17109, 15)\n",
      "201804 0.24195599555969238 (23634, 15)\n",
      "201805 0.35426878929138184 (34456, 15)\n",
      "201806 0.2673001289367676 (40937, 15)\n",
      "201807 0.38085103034973145 (42268, 15)\n",
      "201808 0.4446561336517334 (44432, 15)\n",
      "201809 0.36470913887023926 (39022, 15)\n",
      "9.60711121559143\n",
      "(858366, 15)\n",
      "data saved to  citibikeJCRaw_sample_100.csv\n"
     ]
    }
   ],
   "source": [
    "\n",
    "datelist_long = [201510,201511,201512,201601,201602,201603,\n",
    "            201604,201605,201606,201607,201608,201609,\n",
    "            201610,201611,201612,201701,201702,201703,\n",
    "            201704,201705,201706,201707,201708,201709,\n",
    "            201710,201711,201712,201801,201802,201803,\n",
    "            201804,201805,201806,201807,201808,201809]\n",
    "\n",
    "# date format changes in 2016-10 from \n",
    "# m/d/yyyy hh:mm:ss\n",
    "# to\n",
    "# yyyy-mm-dd hh:mm:ss\n",
    "\n",
    "\n",
    "datelist_longish = [201610,201611,201612,201701,201702,201703,\n",
    "            201704,201705,201706,201707,201708,201709,\n",
    "            201710,201711,201712,201801,201802,201803,\n",
    "            201804,201805,201806,201807,201808,201809]\n",
    "\n",
    "datelist = datelist_long\n",
    "\n",
    "col_dict = {'Trip Duration':'tripduration', \n",
    "            'Start Time':'starttime', \n",
    "            'Stop Time':'stoptime', \n",
    "            'Start Station ID':'start station id',\n",
    "            'Start Station Name':'start station name',\n",
    "            'Start Station Latitude':'start station latitude',\n",
    "            'Start Station Longitude': 'start station longitude', \n",
    "            'End Station ID':'end station id',\n",
    "            'End Station Name': 'end station name',\n",
    "            'End Station Latitude':\"end station latitude\", \n",
    "            'End Station Longitude':'end station longitude', \n",
    "            'Bike ID':'bikeid', \n",
    "            'User Type':'usertype',\n",
    "            'Birth Year':'birth year', \n",
    "            'Gender':'gender'}\n",
    "\n",
    "\n",
    "prefix = \"JC-\"\n",
    "suffix = \"-citibike-tripdata\"\n",
    "ext1 = \".zip\"\n",
    "ext2 = \".csv.zip\"\n",
    "bf0 = pd.DataFrame\n",
    "csvlist = []\n",
    "t0 = time.time()\n",
    "\n",
    "for d in datelist:\n",
    "    t1 = time.time()\n",
    "    filename = prefix+str(d)+suffix\n",
    "    if d>=201701:\n",
    "        df = pd.read_csv(zipdatapath+filename+ext2, compression=\"zip\")\n",
    "    else:\n",
    "        df = pd.read_csv(zipdatapath+filename+ext2, compression=\"zip\")\n",
    "    df1 = df.sample(frac=tripSampleFraction, random_state = randomSeed)\n",
    "    if d<201704:\n",
    "        df1 = df1.rename(index=str, columns=col_dict)\n",
    "    #print(d,df.columns)\n",
    "    csvlist.append(df1)\n",
    "    print(d, time.time()-t1,df1.shape)\n",
    "bf0 = pd.concat(csvlist, axis=0)\n",
    "print(time.time()-t0)\n",
    "print(bf0.shape)\n",
    "#bf0.head()\n",
    "#bf.tail()\n",
    "\n",
    "#save dataframe to \n",
    "bf0.to_csv(csvdatapath+filenameOutputCSV, index = False)\n",
    "print('data saved to ', filenameOutputCSV)\n",
    "#bf0.columns"
   ]
  },
  {
   "cell_type": "code",
   "execution_count": 3,
   "metadata": {},
   "outputs": [
    {
     "name": "stdout",
     "output_type": "stream",
     "text": [
      "data saved to  test.csv\n"
     ]
    }
   ],
   "source": [
    "\n",
    "bf0.to_csv(csvdatapath+\"test.csv\", index = False)\n",
    "print('data saved to ', \"test.csv\")"
   ]
  },
  {
   "cell_type": "code",
   "execution_count": null,
   "metadata": {},
   "outputs": [],
   "source": []
  },
  {
   "cell_type": "markdown",
   "metadata": {},
   "source": [
    "    Create new columns"
   ]
  },
  {
   "cell_type": "code",
   "execution_count": 9,
   "metadata": {},
   "outputs": [
    {
     "ename": "SyntaxError",
     "evalue": "EOL while scanning string literal (<ipython-input-9-7aa488df6693>, line 3)",
     "output_type": "error",
     "traceback": [
      "\u001b[0;36m  File \u001b[0;32m\"<ipython-input-9-7aa488df6693>\"\u001b[0;36m, line \u001b[0;32m3\u001b[0m\n\u001b[0;31m    print('file', filenameOutputCSV, \"loaded')\u001b[0m\n\u001b[0m                                              ^\u001b[0m\n\u001b[0;31mSyntaxError\u001b[0m\u001b[0;31m:\u001b[0m EOL while scanning string literal\n"
     ]
    }
   ],
   "source": [
    "#load dataframe from CSV file\n",
    "bf = pd.read_csv(path+\"filenameOutputCSV.csv\")\n",
    "print('file', filenameOutputCSV, \"loaded')\n",
    "#bf.columns"
   ]
  },
  {
   "cell_type": "code",
   "execution_count": null,
   "metadata": {},
   "outputs": [],
   "source": []
  }
 ],
 "metadata": {
  "kernelspec": {
   "display_name": "Python 3",
   "language": "python",
   "name": "python3"
  },
  "language_info": {
   "codemirror_mode": {
    "name": "ipython",
    "version": 3
   },
   "file_extension": ".py",
   "mimetype": "text/x-python",
   "name": "python",
   "nbconvert_exporter": "python",
   "pygments_lexer": "ipython3",
   "version": "3.7.0"
  }
 },
 "nbformat": 4,
 "nbformat_minor": 2
}

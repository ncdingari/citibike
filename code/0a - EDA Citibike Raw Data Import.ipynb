{
 "cells": [
  {
   "cell_type": "code",
   "execution_count": 2,
   "metadata": {},
   "outputs": [
    {
     "name": "stdout",
     "output_type": "stream",
     "text": [
      "modules imported\n"
     ]
    }
   ],
   "source": [
    "import zipfile\n",
    "import numpy as np\n",
    "import pandas as pd\n",
    "import matplotlib.cm\n",
    "import matplotlib.pyplot as plt\n",
    "import matplotlib.ticker as tkr\n",
    "import matplotlib.lines as mlines\n",
    "import matplotlib.dates as mdates\n",
    "import matplotlib.cbook as cbook\n",
    "\n",
    "\n",
    "import datetime as dt\n",
    "print(\"modules imported\")\n",
    "\n",
    "plt.style.use('ggplot')\n",
    "\n",
    "figurepath = \"//users/sajudson/Dropbox/WPI/DS504/project/figures/\"\n",
    "datapath = \"//users/sajudson/Dropbox/WPI/DS504/project/data/\"\n",
    "rawdatapath = \"//users/sajudson/Dropbox/WPI/DS504/project/rawdata/\"\n"
   ]
  },
  {
   "cell_type": "code",
   "execution_count": 3,
   "metadata": {},
   "outputs": [
    {
     "name": "stdout",
     "output_type": "stream",
     "text": [
      "(17511030, 15)\n"
     ]
    }
   ],
   "source": [
    "datelist = [201710,201711,201712,\n",
    "            201801,201802,201803,201804,201805,201806,\n",
    "            201807,201808,201809]\n",
    "\n",
    "\n",
    "col_dict = {'Trip Duration':'tripduration', \n",
    "            'Start Time':'starttime', \n",
    "            'Stop Time':'stoptime', \n",
    "            'Start Station ID':'start station id',\n",
    "            'Start Station Name':'start station name',\n",
    "            'Start Station Latitude':'start station latitude',\n",
    "            'Start Station Longitude': 'start station longitude', \n",
    "            'End Station ID':'end station id',\n",
    "            'End Station Name': 'end station name',\n",
    "            'End Station Latitude':\"end station latitude\", \n",
    "            'End Station Longitude':'end station longitude', \n",
    "            'Bike ID':'bikeid', \n",
    "            'User Type':'usertype',\n",
    "            'Birth Year':'birth year', \n",
    "            'Gender':'gender'}\n",
    "\n",
    "\n",
    "prefix = \"\"\n",
    "suffix = \"-citibike-tripdata.csv\"\n",
    "ext = \".zip\"\n",
    "bf0 = pd.DataFrame\n",
    "csvlist = []\n",
    "for d in datelist:\n",
    "    filename = prefix+str(d)+suffix\n",
    "    df = pd.read_csv(rawdatapath+filename+ext, compression=\"zip\")\n",
    "    if d<201704:\n",
    "        df = df.rename(index=str, columns=col_dict)\n",
    "    #print(d,df.columns)\n",
    "    csvlist.append(df)    \n",
    "bf0 = pd.concat(csvlist, axis=0)\n",
    "\n",
    "print(bf0.shape)\n",
    "#bf0.head()\n",
    "#bf.tail()\n",
    "\n"
   ]
  },
  {
   "cell_type": "code",
   "execution_count": 9,
   "metadata": {},
   "outputs": [
    {
     "name": "stdout",
     "output_type": "stream",
     "text": [
      "distance column added\n",
      "(826012, 16)\n"
     ]
    }
   ],
   "source": [
    "\n"
   ]
  },
  {
   "cell_type": "code",
   "execution_count": 4,
   "metadata": {},
   "outputs": [
    {
     "name": "stdout",
     "output_type": "stream",
     "text": [
      "file saved\n"
     ]
    }
   ],
   "source": [
    "#save dataframe to \n",
    "bf0.to_csv(datapath+\"citibikeNYC.csv\", index = False)\n",
    "print('file saved')\n",
    "#bf0.columns"
   ]
  },
  {
   "cell_type": "markdown",
   "metadata": {},
   "source": [
    "    Create new columns"
   ]
  },
  {
   "cell_type": "code",
   "execution_count": 106,
   "metadata": {},
   "outputs": [
    {
     "name": "stdout",
     "output_type": "stream",
     "text": [
      "file loaded\n"
     ]
    }
   ],
   "source": []
  }
 ],
 "metadata": {
  "kernelspec": {
   "display_name": "Python 3",
   "language": "python",
   "name": "python3"
  },
  "language_info": {
   "codemirror_mode": {
    "name": "ipython",
    "version": 3
   },
   "file_extension": ".py",
   "mimetype": "text/x-python",
   "name": "python",
   "nbconvert_exporter": "python",
   "pygments_lexer": "ipython3",
   "version": "3.7.0"
  }
 },
 "nbformat": 4,
 "nbformat_minor": 2
}

{
 "cells": [
  {
   "cell_type": "markdown",
   "metadata": {},
   "source": [
    "# Citibike NYC Data Import and Preliminary Sampling\n",
    "\n",
    "This workbook imports 3 years of Citibike NYC trip data and merges it into a singe data dataframe\n",
    "The dataframe is then sampled and saved to disk\n",
    "\n"
   ]
  },
  {
   "cell_type": "code",
   "execution_count": 1,
   "metadata": {},
   "outputs": [
    {
     "name": "stdout",
     "output_type": "stream",
     "text": [
      "modules imported\n"
     ]
    }
   ],
   "source": [
    "import zipfile\n",
    "import numpy as np\n",
    "import pandas as pd\n",
    "import matplotlib.cm\n",
    "import matplotlib.pyplot as plt\n",
    "import matplotlib.ticker as tkr\n",
    "import matplotlib.lines as mlines\n",
    "import matplotlib.dates as mdates\n",
    "import matplotlib.cbook as cbook\n",
    "import time\n",
    "\n",
    "\n",
    "tripSample = 20\n",
    "tripSampleFraction = tripSample/100\n",
    "\n",
    "randomSeed = 1984\n",
    "\n",
    "filenameOutputCSV = \"citibikeNYCRaw_sample_\"+str(tripSample)+\".csv\"\n",
    "    \n",
    "\n",
    "import datetime as dt\n",
    "print(\"modules imported\")\n",
    "\n",
    "plt.style.use('ggplot')\n",
    "\n",
    "figurepath = \"//users/sajudson/Dropbox/WPI/DS504/project/figures/\"\n",
    "zipdatapath = \"//users/sajudson/Dropbox/WPI/DS504/project/rawdata/\"\n",
    "csvdatapath = \"//users/sajudson/Dropbox/WPI/DS504/project/data/\"\n"
   ]
  },
  {
   "cell_type": "code",
   "execution_count": 2,
   "metadata": {},
   "outputs": [
    {
     "name": "stdout",
     "output_type": "stream",
     "text": [
      "201610 20.33402919769287 (314774, 15)\n",
      "201611 13.003026008605957 (239388, 15)\n",
      "201612 10.003417015075684 (162438, 15)\n",
      "201701 9.03715205192566 (145335, 15)\n",
      "201702 10.217021226882935 (158329, 15)\n",
      "201703 8.950672149658203 (145533, 15)\n",
      "201704 15.095871925354004 (263081, 15)\n",
      "201705 17.412118196487427 (304654, 15)\n",
      "201706 17.09448790550232 (346319, 15)\n",
      "201707 18.81497597694397 (347120, 15)\n",
      "201708 14.82308316230774 (363300, 15)\n",
      "201709 20.882086277008057 (375620, 15)\n",
      "201710 17.404677152633667 (379518, 15)\n",
      "201711 11.781391143798828 (266130, 15)\n",
      "201712 8.426836013793945 (177993, 15)\n",
      "201801 6.512152194976807 (143799, 15)\n",
      "201802 8.0604829788208 (168623, 15)\n",
      "201803 9.021504878997803 (195334, 15)\n",
      "201804 11.435833930969238 (261509, 15)\n",
      "201805 22.083527088165283 (364942, 15)\n",
      "201806 17.630331993103027 (390621, 15)\n",
      "201807 18.905237913131714 (382725, 15)\n",
      "201808 20.085499048233032 (395435, 15)\n",
      "201809 21.157350063323975 (375577, 15)\n",
      "367.01082706451416\n",
      "(6668097, 15)\n",
      "data saved to  citibikeNYCRaw_sample_20.csv\n"
     ]
    }
   ],
   "source": [
    "datelist_short = [201710,201711,201712,201801,201802,\n",
    "            201803,201804,201805,201806,201807,201808,201809]\n",
    "\n",
    "datelist_test = [201710,201711]\n",
    "\n",
    "datelist_long = [201510,201511,201512,201601,201602,201603,\n",
    "            201604,201605,201606,201607,201608,201609,\n",
    "            201610,201611,201612,201701,201702,201703,\n",
    "            201704,201705,201706,201707,201708,201709,\n",
    "            201710,201711,201712,201801,201802,201803,\n",
    "            201804,201805,201806,201807,201808,201809]\n",
    "\n",
    "# date format changes in 2016-10 from \n",
    "# m/d/yyyy hh:mm:ss\n",
    "# to\n",
    "# yyyy-mm-dd hh:mm:ss\n",
    "\n",
    "\n",
    "datelist_longish = [201610,201611,201612,201701,201702,201703,\n",
    "            201704,201705,201706,201707,201708,201709,\n",
    "            201710,201711,201712,201801,201802,201803,\n",
    "            201804,201805,201806,201807,201808,201809]\n",
    "\n",
    "datelist = datelist_longish\n",
    "\n",
    "col_dict = {'Trip Duration':'tripduration', \n",
    "            'Start Time':'starttime', \n",
    "            'Stop Time':'stoptime', \n",
    "            'Start Station ID':'start station id',\n",
    "            'Start Station Name':'start station name',\n",
    "            'Start Station Latitude':'start station latitude',\n",
    "            'Start Station Longitude': 'start station longitude', \n",
    "            'End Station ID':'end station id',\n",
    "            'End Station Name': 'end station name',\n",
    "            'End Station Latitude':\"end station latitude\", \n",
    "            'End Station Longitude':'end station longitude', \n",
    "            'Bike ID':'bikeid', \n",
    "            'User Type':'usertype',\n",
    "            'Birth Year':'birth year', \n",
    "            'Gender':'gender'}\n",
    "\n",
    "\n",
    "prefix = \"\"\n",
    "suffix = \"-citibike-tripdata\"\n",
    "ext1 = \".zip\"\n",
    "ext2 = \".csv.zip\"\n",
    "bf0 = pd.DataFrame\n",
    "csvlist = []\n",
    "t0 = time.time()\n",
    "\n",
    "for d in datelist:\n",
    "    t1 = time.time()\n",
    "    filename = prefix+str(d)+suffix\n",
    "    if d>=201701:\n",
    "        df = pd.read_csv(zipdatapath+filename+ext2, compression=\"zip\")\n",
    "    else:\n",
    "        df = pd.read_csv(zipdatapath+filename+ext1, compression=\"zip\")\n",
    "    df1 = df.sample(frac=tripSampleFraction, random_state = randomSeed)\n",
    "    if d<201704:\n",
    "        df1 = df1.rename(index=str, columns=col_dict)\n",
    "    #print(d,df.columns)\n",
    "    csvlist.append(df1)\n",
    "    print(d, time.time()-t1,df1.shape)\n",
    "bf0 = pd.concat(csvlist, axis=0)\n",
    "print(time.time()-t0)\n",
    "print(bf0.shape)\n",
    "#bf0.head()\n",
    "#bf.tail()\n",
    "\n",
    "#save dataframe to \n",
    "bf0.to_csv(csvdatapath+filenameOutputCSV, index = False)\n",
    "print('data saved to ', filenameOutputCSV)\n",
    "#bf0.columns"
   ]
  },
  {
   "cell_type": "code",
   "execution_count": 3,
   "metadata": {},
   "outputs": [
    {
     "name": "stdout",
     "output_type": "stream",
     "text": [
      "data saved to  test.csv\n"
     ]
    }
   ],
   "source": [
    "\n",
    "bf0.to_csv(csvdatapath+\"test.csv\", index = False)\n",
    "print('data saved to ', \"test.csv\")"
   ]
  },
  {
   "cell_type": "code",
   "execution_count": null,
   "metadata": {},
   "outputs": [],
   "source": []
  },
  {
   "cell_type": "markdown",
   "metadata": {},
   "source": [
    "    Create new columns"
   ]
  },
  {
   "cell_type": "code",
   "execution_count": 106,
   "metadata": {},
   "outputs": [
    {
     "name": "stdout",
     "output_type": "stream",
     "text": [
      "file loaded\n"
     ]
    }
   ],
   "source": [
    "#load dataframe from CSV file\n",
    "bf = pd.read_csv(path+\"filenameOutputCSV.csv\")\n",
    "print('file', filenameOutputCSV, \"loaded')\n",
    "#bf.columns"
   ]
  }
 ],
 "metadata": {
  "kernelspec": {
   "display_name": "Python 3",
   "language": "python",
   "name": "python3"
  },
  "language_info": {
   "codemirror_mode": {
    "name": "ipython",
    "version": 3
   },
   "file_extension": ".py",
   "mimetype": "text/x-python",
   "name": "python",
   "nbconvert_exporter": "python",
   "pygments_lexer": "ipython3",
   "version": "3.7.0"
  }
 },
 "nbformat": 4,
 "nbformat_minor": 2
}

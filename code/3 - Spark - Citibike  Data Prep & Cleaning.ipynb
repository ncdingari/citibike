{
 "cells": [
  {
   "cell_type": "markdown",
   "metadata": {},
   "source": [
    "## Citibike - NYC Sampling"
   ]
  },
  {
   "cell_type": "code",
   "execution_count": 49,
   "metadata": {},
   "outputs": [
    {
     "name": "stdout",
     "output_type": "stream",
     "text": [
      "modules imported\n"
     ]
    }
   ],
   "source": [
    "import numpy as np\n",
    "import pandas as pd\n",
    "import matplotlib.cm\n",
    "import matplotlib.pyplot as plt\n",
    "import matplotlib.ticker as tkr\n",
    "\n",
    "import matplotlib.lines as mlines\n",
    "import matplotlib.dates as mdates\n",
    "import matplotlib.cbook as cbook\n",
    "import time\n",
    "\n",
    "import findspark\n",
    "findspark.init()\n",
    "\n",
    "from geopy.distance import geodesic\n",
    "\n",
    "import pyspark\n",
    "from pyspark.sql import SparkSession\n",
    "from pyspark.sql.functions import count, sum, avg, udf, to_timestamp, date_trunc\n",
    "from pyspark.sql.functions import year, month, hour, dayofweek\n",
    "from pyspark.sql.functions import round, concat, col, lit\n",
    "\n",
    "from pyspark.sql.types import FloatType, StructType, IntegerType, StringType, DoubleType, StructField, TimestampType, DateType\n",
    "from pyspark.sql.types import TimestampType\n",
    "\n",
    "import random\n",
    "\n",
    "spark1 = SparkSession.builder.appName(\"CB\").getOrCreate()\n",
    "\n",
    "import datetime as dt\n",
    "print(\"modules imported\")\n",
    "\n",
    "randomSeed = 1984\n",
    "\n",
    "pathWeather = \"/users/sajudson/Dropbox/WPI/DS504/project/weather/\"\n",
    "pathData = \"/users/sajudson/Dropbox/WPI/DS504/project/data/\"\n",
    "pathFigure = \"/users/sajudson/Dropbox/WPI/DS504/project/figures/\"\n",
    "\n",
    "\n",
    "plt.style.use('ggplot')"
   ]
  },
  {
   "cell_type": "markdown",
   "metadata": {},
   "source": [
    "## Select City and set filenames for input and output "
   ]
  },
  {
   "cell_type": "code",
   "execution_count": 54,
   "metadata": {},
   "outputs": [
    {
     "name": "stdout",
     "output_type": "stream",
     "text": [
      "citibikeNYCRaw_sample_20.csv ,  citibikeNYCbf3_sample_20.csv\n"
     ]
    }
   ],
   "source": [
    "\n",
    "\n",
    "tripSampleFraction = .20\n",
    "stationSampleFraction = .20\n",
    "\n",
    "\n",
    "#Use NYC weather data for both data sets\n",
    "weatherRaw = \"NYC\"+'weatherRaw'\n",
    "weatherFeatures = \"NYC\"+'weatherFeatures'\n",
    "weather_file_type = 'csv'\n",
    "\n",
    "#SELECT WHICH CITY TO USE FOR ANALYSIS \n",
    "city = \"NYC\"\n",
    "#city = \"JC\"\n",
    "sample = str(int(tripSampleFraction*100))\n",
    "\n",
    "filenameRaw = \"citibike\"+city+\"Raw_sample_\"+sample\n",
    "filenameInput = filenameRaw+\".csv\"\n",
    "filenameBF4 = \"citibike\"+city+\"bf3_sample_\"+sample\n",
    "filenameOutput = filenameBF4+\".csv\"\n",
    "\n",
    "print(filenameInput, \", \",filenameOutput)"
   ]
  },
  {
   "cell_type": "code",
   "execution_count": 55,
   "metadata": {},
   "outputs": [
    {
     "name": "stdout",
     "output_type": "stream",
     "text": [
      "/users/sajudson/Dropbox/WPI/DS504/project/data/citibikeNYCRaw_sample_20.csv\n"
     ]
    }
   ],
   "source": [
    "# File location and type\n",
    "file_location = pathData+filenameInput\n",
    "file_type = \"csv\"\n",
    "print(file_location)"
   ]
  },
  {
   "cell_type": "code",
   "execution_count": null,
   "metadata": {},
   "outputs": [],
   "source": []
  },
  {
   "cell_type": "markdown",
   "metadata": {},
   "source": [
    "# Import Trip Data"
   ]
  },
  {
   "cell_type": "code",
   "execution_count": 56,
   "metadata": {},
   "outputs": [
    {
     "data": {
      "text/plain": [
       "DataFrame[tripduration: string, starttime: string, stoptime: string, start station id: string, start station name: string, start station latitude: string, start station longitude: string, end station id: string, end station name: string, end station latitude: string, end station longitude: string, bikeid: string, usertype: string, birth year: string, gender: string]"
      ]
     },
     "metadata": {},
     "output_type": "display_data"
    }
   ],
   "source": [
    "\n",
    "# CSV options\n",
    "infer_schema = \"false\"\n",
    "first_row_is_header = \"true\"\n",
    "delimiter = \",\"\n",
    "\n",
    "# The applied options are for CSV files. For other file types, these will be ignored.\n",
    "bf = spark1.read.format(file_type) \\\n",
    "  .option(\"inferSchema\", infer_schema) \\\n",
    "  .option(\"header\", first_row_is_header) \\\n",
    "  .option(\"sep\", delimiter) \\\n",
    "  .load(file_location)\n",
    "\n",
    "display(bf)"
   ]
  },
  {
   "cell_type": "markdown",
   "metadata": {},
   "source": [
    "## Sample DataFrame & Cleanup\n",
    "\n"
   ]
  },
  {
   "cell_type": "code",
   "execution_count": 57,
   "metadata": {},
   "outputs": [
    {
     "name": "stdout",
     "output_type": "stream",
     "text": [
      "+-------+------------------+--------------------+--------------------+------------------+------------------+----------------------+-----------------------+------------------+----------------+--------------------+---------------------+------------------+----------+-----------------+------------------+\n",
      "|summary|      tripduration|           starttime|            stoptime|  start_station_id|start_station_name|start_station_latitude|start_station_longitude|    end_station_id|end_station_name|end_station_latitude|end_station_longitude|            bikeid|  usertype|       birth_year|            gender|\n",
      "+-------+------------------+--------------------+--------------------+------------------+------------------+----------------------+-----------------------+------------------+----------------+--------------------+---------------------+------------------+----------+-----------------+------------------+\n",
      "|  count|           6668097|             6668097|             6668097|           6667711|           6667711|               6668097|                6668097|           6667711|         6667711|             6668097|              6668097|           6668097|   6657692|          6280941|           6668097|\n",
      "|   mean| 989.4110870012839|                null|                null| 1436.394454408717|              null|     40.73704352418919|     -73.98384351187369| 1427.272188311701|            null|   40.73666385122731|   -73.98398274382593|24546.268642012856|      null|1978.773667512559|  1.13145054728508|\n",
      "| stddev|15228.823169599744|                null|                null|1383.3746987015047|              null|   0.04947664223074966|    0.07245793699421764|1381.2582215615257|            null| 0.06467237210376711|  0.10487235947367565| 5680.711445705842|      null|11.85743335774727|0.5564134424967756|\n",
      "|    min|               100| 2016-10-01 00:02:09| 2016-10-01 00:08:23|             116.0|  1 Ave & E 110 St|                   0.0|     -73.56890559196472|             116.0|1 Ave & E 110 St|                 0.0|   -73.56890559196472|             14529|  Customer|           1874.0|                 0|\n",
      "|    max|              9999|2018-09-30 23:59:...|2018-10-03 11:21:...|              83.0|  York St & Jay St|    45.506364054011385|                    0.0|              83.0|York St & Jay St|  45.506364054011385|                  0.0|             34907|Subscriber|           2002.0|                 2|\n",
      "+-------+------------------+--------------------+--------------------+------------------+------------------+----------------------+-----------------------+------------------+----------------+--------------------+---------------------+------------------+----------+-----------------+------------------+\n",
      "\n"
     ]
    }
   ],
   "source": [
    "t0= time.time()\n",
    "#bf1 = bf.sample(False,tripSampleFraction,randomSeed)\n",
    "bf1 = bf\n",
    "\n",
    "for col in bf1.columns:\n",
    "  bf1 = bf1.withColumnRenamed(col,col.replace(\" \", \"_\"))\n",
    "bf1.dropna()\n",
    "bf1.describe().show()\n",
    "#print(time.time()-t0)"
   ]
  },
  {
   "cell_type": "markdown",
   "metadata": {},
   "source": [
    "# Create a view or table"
   ]
  },
  {
   "cell_type": "code",
   "execution_count": 58,
   "metadata": {},
   "outputs": [],
   "source": [
    "temp_table_name = filenameRaw\n",
    "\n",
    "bf1.createOrReplaceTempView(temp_table_name)"
   ]
  },
  {
   "cell_type": "markdown",
   "metadata": {},
   "source": [
    "# Add column with calculated distance between stations "
   ]
  },
  {
   "cell_type": "code",
   "execution_count": 59,
   "metadata": {},
   "outputs": [
    {
     "name": "stdout",
     "output_type": "stream",
     "text": [
      "6668097 17\n",
      "6.9388978481292725\n"
     ]
    }
   ],
   "source": [
    "\n",
    "\n",
    "t0 = time.time()\n",
    "@udf('double')\n",
    "def geodistance(start_latitude,start_longitude,end_latitude,end_longitude):\n",
    "    d = geodesic((start_latitude,start_longitude),(end_latitude,end_longitude)).miles\n",
    "    return (d)\n",
    "\n",
    "\n",
    "\n",
    "bf1 = bf1.withColumn('distance',geodistance(bf1.start_station_latitude,bf1.start_station_longitude,\n",
    "                                          bf1.end_station_latitude, bf1.end_station_longitude)\n",
    "              )\n",
    "bf1 = bf1.withColumn('tripduration_min', bf1.tripduration/60)\n",
    "\n",
    "maxtripduration = 24*60\n",
    "maxdistance = 50\n",
    "\n",
    "bf1.filter(bf1['distance']<maxdistance)\n",
    "bf1.filter(bf1['tripduration_min']<maxtripduration)\n",
    "\n",
    "print(bf1.count(), len(bf1.columns))\n",
    "#print(bf1.columns)\n",
    "t1 = time.time()\n",
    "print(t1-t0)"
   ]
  },
  {
   "cell_type": "code",
   "execution_count": 60,
   "metadata": {},
   "outputs": [
    {
     "name": "stdout",
     "output_type": "stream",
     "text": [
      "+------------+-------------------+-------------------+----------------+--------------------+----------------------+-----------------------+--------------+--------------------+--------------------+---------------------+------+----------+----------+------+------------------+------------------+\n",
      "|tripduration|          starttime|           stoptime|start_station_id|  start_station_name|start_station_latitude|start_station_longitude|end_station_id|    end_station_name|end_station_latitude|end_station_longitude|bikeid|  usertype|birth_year|gender|          distance|  tripduration_min|\n",
      "+------------+-------------------+-------------------+----------------+--------------------+----------------------+-----------------------+--------------+--------------------+--------------------+---------------------+------+----------+----------+------+------------------+------------------+\n",
      "|         508|2016-10-02 13:04:16|2016-10-02 13:12:44|           322.0|Clinton St & Till...|    40.696191999999996|             -73.991218|        3412.0|Pacific St & Nevi...|          40.6853761|         -73.98302136| 23164|Subscriber|    1968.0|     1|0.8615859225574408| 8.466666666666667|\n",
      "|         221|2016-10-31 12:49:53|2016-10-31 12:53:34|           484.0|     W 44 St & 5 Ave|           40.75500254|           -73.98014437|         533.0|  Broadway & W 39 St|         40.75299641|         -73.98721619| 24903|Subscriber|    1990.0|     2|0.3960592046869539| 3.683333333333333|\n",
      "|         588|2016-10-12 13:48:02|2016-10-12 13:57:51|           331.0| Pike St & Monroe St|           40.71173107|           -73.99193043|         332.0|           Cherry St|         40.71219906|         -73.97948148| 17658|Subscriber|    2000.0|     1|0.6544430550855861|               9.8|\n",
      "|         243|2016-10-24 13:33:31|2016-10-24 13:37:35|           440.0|     E 45 St & 3 Ave|           40.75255434|           -73.97282625|        3223.0|     E 55 St & 3 Ave|  40.758996559605116|   -73.96865397691727| 20961|Subscriber|    1994.0|     1|0.4955163531785691|              4.05|\n",
      "|         519|2016-10-06 09:46:50|2016-10-06 09:55:30|           306.0|Cliff St & Fulton St|           40.70823502|           -74.00530063|         268.0|Howard St & Centr...|         40.71910537|         -73.99973337| 24319|Subscriber|    1978.0|     2|0.8050229206157371|              8.65|\n",
      "|         604|2016-10-19 21:34:35|2016-10-19 21:44:39|           252.0|MacDougal St & Wa...|           40.73226398|           -73.99852205|         505.0|     6 Ave & W 33 St|         40.74901271|         -73.98848395| 26387|Subscriber|    1980.0|     1|1.2701224838016258|10.066666666666666|\n",
      "|         689|2016-10-11 09:20:09|2016-10-11 09:31:38|           536.0|     1 Ave & E 30 St|           40.74144387|           -73.97536082|         359.0|  E 47 St & Park Ave|         40.75510267|         -73.97498696| 18973|Subscriber|    1956.0|     2|0.9426979530325967|11.483333333333333|\n",
      "|         456|2016-10-15 23:38:12|2016-10-15 23:45:48|           492.0|     W 33 St & 7 Ave|           40.75019995|           -73.99093085|         528.0|     2 Ave & E 31 St|         40.74290902|         -73.97706058| 26750|Subscriber|    1987.0|     1|0.8848372283614386|               7.6|\n",
      "|        2334|2016-10-12 18:30:57|2016-10-12 19:09:52|           446.0|     W 24 St & 7 Ave|           40.74487634|           -73.99529885|        3402.0| Court St & State St|          40.6902375|         -73.99203074| 24207|Subscriber|    1982.0|     1|3.7741084368868387|              38.9|\n",
      "|         578|2016-10-15 13:34:52|2016-10-15 13:44:30|           497.0|  E 17 St & Broadway|           40.73704984|           -73.99009296|         536.0|     1 Ave & E 30 St|         40.74144387|         -73.97536082| 24032|Subscriber|    1984.0|     2|0.8305334609099133| 9.633333333333333|\n",
      "|         684|2016-10-18 10:32:18|2016-10-18 10:43:42|           507.0|     E 25 St & 2 Ave|           40.73912601|           -73.97973776|        3435.0|Grand St & Elizab...|  40.718821999999996|            -73.99596| 25528|Subscriber|    1992.0|     1|1.6395157707647832|              11.4|\n",
      "|         812|2016-10-28 20:45:36|2016-10-28 20:59:08|           174.0|     E 25 St & 1 Ave|            40.7381765|           -73.97738662|        3255.0|     8 Ave & W 31 St|    40.7505853470215|    -73.9946848154068| 22888|Subscriber|    1978.0|     1|1.2479141773769118|13.533333333333333|\n",
      "|         353|2016-10-26 21:22:14|2016-10-26 21:28:08|          3232.0| Bond St & Fulton St|     40.68962188790333|     -73.98304268717766|        3407.0|Union St & Nevins St|   40.67909799721684|   -73.98765474557877| 25987|Subscriber|    1990.0|     1|0.7655137375760176| 5.883333333333334|\n",
      "|         691|2016-10-26 23:29:44|2016-10-26 23:41:16|           382.0|University Pl & E...|           40.73492695|           -73.99200509|          79.0|Franklin St & W B...|         40.71911552|         -74.00666661| 17913|Subscriber|    1991.0|     1|1.3351758744102429|11.516666666666667|\n",
      "|         266|2016-10-21 06:51:48|2016-10-21 06:56:15|          3263.0|Cooper Square & E...|     40.72923649910006|     -73.99086803197861|         432.0|   E 7 St & Avenue A|         40.72621788|         -73.98379855| 14979|Subscriber|    1991.0|     2|0.4255623609989492| 4.433333333333334|\n",
      "|         382|2016-10-14 07:17:50|2016-10-14 07:24:13|           515.0|    W 43 St & 10 Ave|           40.76009437|           -73.99461843|         500.0|  Broadway & W 51 St|         40.76228826|         -73.98336183| 24991|Subscriber|    1989.0|     1| 0.609697660294934| 6.366666666666666|\n",
      "|         986|2016-10-14 17:25:14|2016-10-14 17:41:40|           519.0|Pershing Square N...|    40.751872999999996|     -73.97770600000001|         349.0|Rivington St & Ri...|         40.71850211|         -73.98329859| 22901|Subscriber|    1986.0|     1| 2.321310432770792|16.433333333333334|\n",
      "|         203|2016-10-16 17:00:39|2016-10-16 17:04:02|           511.0|  E 14 St & Avenue B|           40.72938685|           -73.97772429|         504.0|     1 Ave & E 16 St|         40.73221853|         -73.98165557| 16880|Subscriber|    1983.0|     2|0.2841865909159482|3.3833333333333333|\n",
      "|         200|2016-10-15 19:19:46|2016-10-15 19:23:06|           320.0|Leonard St & Chur...|             40.717571|             -74.005549|         146.0|Hudson St & Reade St|         40.71625008|          -74.0091059| 24175|Subscriber|    1961.0|     2|0.2078014356426468|3.3333333333333335|\n",
      "|         890|2016-10-28 13:16:22|2016-10-28 13:31:13|           315.0|South St & Gouver...|           40.70355377|           -74.00670227|         347.0|Greenwich St & W ...|  40.728846000000004|   -74.00859100000001| 22686|Subscriber|    1972.0|     1|1.7480368350519757|14.833333333333334|\n",
      "+------------+-------------------+-------------------+----------------+--------------------+----------------------+-----------------------+--------------+--------------------+--------------------+---------------------+------+----------+----------+------+------------------+------------------+\n",
      "only showing top 20 rows\n",
      "\n",
      "2.8747661113739014\n"
     ]
    }
   ],
   "source": [
    "t0 = time.time()\n",
    "#bf1.show()\n",
    "t1 = time.time()\n",
    "print(t1-t0)"
   ]
  },
  {
   "cell_type": "code",
   "execution_count": 9,
   "metadata": {},
   "outputs": [],
   "source": [
    "#bf1.cache()\n"
   ]
  },
  {
   "cell_type": "code",
   "execution_count": 10,
   "metadata": {},
   "outputs": [],
   "source": [
    "#bf1quantile = bf1.approxQuantile([\"tripduration_min\", \"distance\"], [0.5], 0.25)"
   ]
  },
  {
   "cell_type": "markdown",
   "metadata": {},
   "source": [
    "# Drop columns that are not required\n"
   ]
  },
  {
   "cell_type": "code",
   "execution_count": 61,
   "metadata": {},
   "outputs": [],
   "source": [
    "#df_new = df.drop(*drop_these)\n",
    "\n",
    "t = time.time()\n",
    "dropFeatures =[      'start_station_name',\n",
    "                     'start_station_latitude', 'start_station_longitude', \n",
    "                     'end_station_name', 'end_station_latitude', 'end_station_longitude',\n",
    "                     'bikeid', 'birth_year', 'gender']\n",
    "\n",
    "median_distance = 0.62\n",
    "\n",
    "\n",
    "bf2 = bf1.select([column for column in bf1.columns if column not in dropFeatures])\n"
   ]
  },
  {
   "cell_type": "markdown",
   "metadata": {},
   "source": [
    "# Convert time and date string to timestamp, round down to hour\n"
   ]
  },
  {
   "cell_type": "code",
   "execution_count": 62,
   "metadata": {},
   "outputs": [],
   "source": [
    "#print(time.time()-t)\n",
    "\n",
    "#timestamps in m/d/yyyy hh:mm:ss format prior prior to 2016-10\n",
    "#\n",
    "\n",
    "\n",
    "\n",
    "\n",
    "bf2 = bf2.withColumn(\"starttime\", to_timestamp(bf2.starttime,\"yyyy-MM-dd HH:mm:ss\").cast(\"timestamp\"))\n",
    "bf2 = bf2.withColumn(\"starttime\", date_trunc(\"hour\", bf2.starttime))\n",
    "bf2 = bf2.withColumn(\"stoptime\", to_timestamp(bf2.stoptime,\"yyyy-MM-dd HH:mm:ss\").cast(\"timestamp\"))\n",
    "bf2 = bf2.withColumn(\"stoptime\", date_trunc(\"hour\", bf2.stoptime))\n",
    "\n",
    "#Check output\n",
    "#t0 = time.time()\n",
    "#bf2.show()\n",
    "#print(time.time()-t0)                  \n"
   ]
  },
  {
   "cell_type": "markdown",
   "metadata": {},
   "source": [
    "# Create new features based on distance between stations\n",
    "Indicator variables\n",
    "- local (distance = 0, bike returned to same station)\n",
    "- short (distance <= median distance)\n",
    "- long (distance > median distance)"
   ]
  },
  {
   "cell_type": "code",
   "execution_count": 63,
   "metadata": {},
   "outputs": [],
   "source": [
    "\n",
    "\n",
    "\n",
    "@udf\n",
    "def setShort(d):\n",
    "    if d > 0 and d <= median_distance:\n",
    "        return 1\n",
    "    else:\n",
    "        return 0\n",
    "\n",
    "    \n",
    "@udf    \n",
    "def setLocal(d):\n",
    "    if (d==0): \n",
    "        return(1)\n",
    "    else: \n",
    "        return(0)\n",
    "    \n",
    "\n",
    "@udf    \n",
    "def setLong(d):\n",
    "    if (d> median_distance): \n",
    "        return(1)\n",
    "    else: \n",
    "        return(0)\n",
    "\n",
    "    \n",
    "\n",
    "bf2 = bf2.withColumn('local', setLocal(bf2.distance).cast(\"integer\"))\n",
    "bf2 = bf2.withColumn('short', setShort(bf2.distance).cast(\"integer\"))\n",
    "bf2 = bf2.withColumn('long', setLong(bf2.distance).cast(\"integer\"))\n",
    "bf2 = bf2.withColumn('start_station_id', bf2['start_station_id'].cast('integer'))\n",
    "bf2 = bf2.withColumn('end_station_id', bf2['end_station_id'].cast('integer'))\n",
    "#bf2.show()\n",
    "#bf2.cache"
   ]
  },
  {
   "cell_type": "markdown",
   "metadata": {},
   "source": [
    "# Create dataframe grouped by timestamp and station id \n",
    "- Split trip dataframe in to supply (trips ending at a station)  and demand (trips starting at a station) dataframes.\n",
    "- Aggregrate by hour and station id\n",
    "- Join supply and demand dataframes into single data frame based on hour and station id\n",
    "- Calculate net demand at each station\n"
   ]
  },
  {
   "cell_type": "code",
   "execution_count": 64,
   "metadata": {},
   "outputs": [],
   "source": [
    "demandDropFeatures =['tripduration', 'usertype', 'distance',\n",
    "                     'stoptime', \n",
    "                     'subscriber','customer',\n",
    "                     'end_station_id', \n",
    "                     'tripduration_min',\n",
    "                     ]\n",
    "supplyDropFeatures =['tripduration',  'usertype', 'distance',\n",
    "                     'starttime', \n",
    "                     'subscriber','customer',\n",
    "                     'start_station_id',\n",
    "                     'tripduration_min',\n",
    "                     ]\n",
    "\n",
    "\n",
    "bf2_demand = bf2.select([column for column in bf2.columns if column not in demandDropFeatures])\n",
    "bf2_demand = bf2_demand.withColumnRenamed(\"starttime\", \"datetime\").withColumnRenamed(\"start_station_id\",\"station_id\")\n",
    "\n",
    "bf2_supply = bf2.select([column for column in bf2.columns if column not in supplyDropFeatures])\n",
    "bf2_supply = bf2_supply.withColumnRenamed(\"stoptime\", \"datetime\").withColumnRenamed(\"end_station_id\",\"station_id\")\n",
    "\n",
    "bf2_d_agg = bf2_demand.groupBy(\"datetime\",\"station_id\").agg(sum(\"local\"), sum(\"short\"),sum(\"long\")).orderBy('datetime', 'station_id' )\n",
    "bf2_d_agg = bf2_d_agg.withColumnRenamed(\"sum(local)\", \"local_demand\").withColumnRenamed(\"sum(short)\", \"short_demand\").withColumnRenamed(\"sum(long)\", \"long_demand\")\n",
    "\n",
    "bf2_s_agg = bf2_supply.groupBy(\"datetime\",\"station_id\").agg(sum(\"local\"), sum(\"short\"),sum(\"long\"))\n",
    "bf2_s_agg = bf2_s_agg.withColumnRenamed(\"sum(local)\", \"local_supply\").withColumnRenamed(\"sum(short)\", \"short_supply\").withColumnRenamed(\"sum(long)\", \"long_supply\")\n",
    "\n",
    "bf3 = bf2_d_agg.join(bf2_s_agg, ['datetime','station_id'])\n",
    "\n",
    "bf3 = bf3.withColumn('totalDemand', (bf3.local_demand+bf3.short_demand+bf3.long_demand))\n",
    "bf3 = bf3.withColumn('totalSupply', ((bf3.local_supply+bf3.short_supply+bf3.long_supply)))\n",
    "\n",
    "\n",
    "#remove short local long and net demand features (reinstate later if feasible/necessary)\n",
    "#bf3 = bf3.withColumn('netDemand', (bf3.totalDemand)-(bf3.totalSupply))\n",
    "\n",
    "dropFeatures3 =['short_demand',  'long_demand', 'local_demand',\n",
    "               'short_supply',  'long_supply', 'local_supply',]\n",
    "\n",
    "\n",
    "bf3 = bf3.select([column for column in bf3.columns if column not in dropFeatures3])\n",
    "\n"
   ]
  },
  {
   "cell_type": "code",
   "execution_count": 65,
   "metadata": {},
   "outputs": [
    {
     "name": "stdout",
     "output_type": "stream",
     "text": [
      "+-------------------+----------+-----------+-----------+\n",
      "|           datetime|station_id|totalDemand|totalSupply|\n",
      "+-------------------+----------+-----------+-----------+\n",
      "|2016-10-01 11:00:00|      3428|          3|          1|\n",
      "|2016-10-01 12:00:00|       301|          4|          2|\n",
      "|2016-10-01 12:00:00|      3398|          1|          1|\n",
      "|2016-10-01 14:00:00|       309|          1|          2|\n",
      "|2016-10-01 14:00:00|       356|          2|          1|\n",
      "|2016-10-01 16:00:00|       281|          1|          1|\n",
      "|2016-10-01 16:00:00|       312|          1|          2|\n",
      "|2016-10-01 16:00:00|       444|          5|          6|\n",
      "|2016-10-01 16:00:00|      3092|          2|          2|\n",
      "|2016-10-01 17:00:00|       432|          5|          1|\n",
      "|2016-10-01 19:00:00|       167|          1|          3|\n",
      "|2016-10-01 19:00:00|       523|          1|          1|\n",
      "|2016-10-01 20:00:00|      3435|          3|          3|\n",
      "|2016-10-02 11:00:00|       251|          2|          6|\n",
      "|2016-10-02 13:00:00|      3052|          1|          2|\n",
      "|2016-10-02 13:00:00|      3303|          1|          2|\n",
      "|2016-10-02 15:00:00|       127|          2|          5|\n",
      "|2016-10-02 16:00:00|      3173|          1|          4|\n",
      "|2016-10-02 17:00:00|       254|          2|          1|\n",
      "|2016-10-02 18:00:00|       377|          3|          2|\n",
      "+-------------------+----------+-----------+-----------+\n",
      "only showing top 20 rows\n",
      "\n"
     ]
    }
   ],
   "source": [
    "#bf3.show()"
   ]
  },
  {
   "cell_type": "markdown",
   "metadata": {},
   "source": [
    "## Sample based on stations\n"
   ]
  },
  {
   "cell_type": "code",
   "execution_count": 66,
   "metadata": {},
   "outputs": [
    {
     "name": "stdout",
     "output_type": "stream",
     "text": [
      "180\n",
      "[72, 116, 119, 143, 150, 152, 153, 161, 168, 195, 238, 244, 245, 252, 255, 259, 260, 275, 278, 279, 280, 285, 289, 307, 312, 319, 322, 324, 344, 346, 347, 348, 349, 351, 365, 369, 373, 395, 409, 416, 445, 454, 457, 460, 461, 467, 468, 472, 488, 490, 500, 526, 530, 534, 536, 537, 2002, 2003, 2004, 2012, 2017, 3002, 3041, 3049, 3052, 3061, 3073, 3075, 3076, 3077, 3078, 3098, 3102, 3105, 3107, 3113, 3120, 3121, 3123, 3124, 3135, 3140, 3148, 3150, 3158, 3165, 3166, 3175, 3219, 3224, 3241, 3246, 3249, 3255, 3283, 3296, 3306, 3308, 3311, 3312, 3315, 3318, 3322, 3330, 3333, 3338, 3341, 3342, 3344, 3346, 3347, 3348, 3353, 3354, 3357, 3359, 3368, 3369, 3373, 3376, 3383, 3387, 3392, 3393, 3396, 3397, 3407, 3415, 3417, 3424, 3427, 3441, 3447, 3459, 3464, 3467, 3478, 3496, 3497, 3498, 3508, 3510, 3513, 3516, 3522, 3525, 3528, 3536, 3541, 3551, 3559, 3560, 3561, 3563, 3564, 3568, 3570, 3571, 3576, 3580, 3586, 3599, 3601, 3604, 3606, 3613, 3615, 3617, 3620, 3631, 3632, 3644, 3647, 3648, 3654, 3658, 3666, 3671, 3675, 3680]\n",
      "89.14726185798645\n"
     ]
    }
   ],
   "source": [
    "t0= time.time()\n",
    "#create DF with unique station ids\n",
    "stationDF = bf3.select(\"station_id\").distinct().orderBy(\"station_id\")\n",
    "#print(stationDF.count())\n",
    "#create DF with sample of station is\n",
    "sampleStationDF = stationDF.sample(False,stationSampleFraction,randomSeed)\n",
    "#convertsample station dataframe to a list\n",
    "sampleStationList = sampleStationDF.select(\"station_id\").rdd.map(lambda row : row[0]).collect()                         \n",
    "print(len(sampleStationList))\n",
    "bf4 = bf3.filter(bf3.station_id.isin(sampleStationList))\n",
    "print(sampleStationList)\n",
    "\n",
    "#bf4.show()\n",
    "print(time.time()-t0)"
   ]
  },
  {
   "cell_type": "markdown",
   "metadata": {},
   "source": [
    "Save file to disk\n"
   ]
  },
  {
   "cell_type": "code",
   "execution_count": 67,
   "metadata": {},
   "outputs": [
    {
     "name": "stdout",
     "output_type": "stream",
     "text": [
      "685.344743013382\n"
     ]
    }
   ],
   "source": [
    "t0= time.time()\n",
    "bf4.write.csv(pathData+filenameOutput, mode=\"overwrite\", header=True, sep=\",\")\n",
    "print(time.time()-t0)\n",
    "\n",
    "# this operation takes ~140 seconds without bf4 in cache for JC data at 100%\n",
    "# this operation takes ~685 seconds without bf4 in cache for NYC data at 120%\n"
   ]
  },
  {
   "cell_type": "markdown",
   "metadata": {},
   "source": [
    "Describe file save to disk for later comparison"
   ]
  },
  {
   "cell_type": "code",
   "execution_count": 68,
   "metadata": {},
   "outputs": [
    {
     "name": "stdout",
     "output_type": "stream",
     "text": [
      "+-------+------------------+------------------+------------------+\n",
      "|summary|        station_id|       totalDemand|       totalSupply|\n",
      "+-------+------------------+------------------+------------------+\n",
      "|  count|            365562|            365562|            365562|\n",
      "|   mean|1523.4033898490543|  2.25856899787177|2.2852265826316738|\n",
      "| stddev|1410.4577855968032|1.8102462485889539|1.8422900745279007|\n",
      "|    min|                72|                 1|                 1|\n",
      "|    max|              3680|                49|                37|\n",
      "+-------+------------------+------------------+------------------+\n",
      "\n",
      "656.0118918418884\n",
      "+-------------------+----------+-----------+-----------+\n",
      "|           datetime|station_id|totalDemand|totalSupply|\n",
      "+-------------------+----------+-----------+-----------+\n",
      "|2016-10-01 16:00:00|       312|          1|          2|\n",
      "|2016-10-02 13:00:00|      3052|          1|          2|\n",
      "|2016-10-03 12:00:00|       472|          5|          2|\n",
      "|2016-10-03 14:00:00|      3427|          1|          3|\n",
      "|2016-10-03 19:00:00|       461|          4|          8|\n",
      "|2016-10-03 22:00:00|       445|          1|          1|\n",
      "|2016-10-04 09:00:00|      3102|          1|          1|\n",
      "|2016-10-04 15:00:00|       252|          1|          1|\n",
      "|2016-10-04 22:00:00|      3113|          1|          2|\n",
      "|2016-10-05 06:00:00|       346|          2|          2|\n",
      "|2016-10-05 07:00:00|      2012|          1|          1|\n",
      "|2016-10-05 17:00:00|       168|         13|          9|\n",
      "|2016-10-05 19:00:00|       457|          4|          2|\n",
      "|2016-10-06 11:00:00|      3255|          1|          1|\n",
      "|2016-10-06 15:00:00|      2017|          1|          1|\n",
      "|2016-10-06 20:00:00|      3224|          1|          4|\n",
      "|2016-10-07 10:00:00|       143|          3|          1|\n",
      "|2016-10-08 09:00:00|      3306|          1|          1|\n",
      "|2016-10-08 12:00:00|      3102|          1|          1|\n",
      "|2016-10-08 14:00:00|      3175|          1|          1|\n",
      "+-------------------+----------+-----------+-----------+\n",
      "only showing top 20 rows\n",
      "\n"
     ]
    }
   ],
   "source": [
    "t0= time.time()\n",
    "bf4.describe().show()\n",
    "print(time.time()-t0)\n",
    "bf4.show()\n",
    "#\n",
    "# this operation takes ~147 seconds with bf4 in cache"
   ]
  },
  {
   "cell_type": "code",
   "execution_count": null,
   "metadata": {},
   "outputs": [],
   "source": [
    "qccheck = bf4.groupBy(\"station_id\").agg(sum(\"totalDemand\"), sum(\"totalSupply\"),count(\"station_id\"))"
   ]
  },
  {
   "cell_type": "code",
   "execution_count": 70,
   "metadata": {},
   "outputs": [
    {
     "name": "stdout",
     "output_type": "stream",
     "text": [
      "+----------+----------------+----------------+-----------------+\n",
      "|station_id|sum(totalDemand)|sum(totalSupply)|count(station_id)|\n",
      "+----------+----------------+----------------+-----------------+\n",
      "|      3175|            6677|            6753|             3593|\n",
      "|      3098|              57|              57|               50|\n",
      "|      3561|             105|             106|              100|\n",
      "|      3105|             936|             953|              727|\n",
      "|       255|              13|              12|               10|\n",
      "|      3631|              35|              29|               28|\n",
      "|       472|           20082|           20019|             6901|\n",
      "|      3306|            1184|            1193|              926|\n",
      "|       322|            2698|            2786|             1742|\n",
      "|      3601|              72|              75|               67|\n",
      "|      3441|             113|              97|               85|\n",
      "|      3124|            2495|            2492|             1647|\n",
      "|       530|           14127|           13641|             5704|\n",
      "|      2003|           14123|           14532|             6136|\n",
      "|      3296|             750|             753|              572|\n",
      "|      3166|            6554|            7095|             3234|\n",
      "|      3346|            2886|            2854|             1948|\n",
      "|      3359|            1625|            1601|             1125|\n",
      "|      3387|             536|             504|              407|\n",
      "|      3123|             216|             206|              181|\n",
      "|      3666|             449|             460|              331|\n",
      "|      3528|             133|             134|              118|\n",
      "|       460|            8599|            9011|             4196|\n",
      "|      3076|            1239|            1250|              935|\n",
      "|      3353|             649|             631|              404|\n",
      "|       409|             888|             873|              707|\n",
      "|       285|           32129|           31821|             9112|\n",
      "|      3654|              74|              71|               63|\n",
      "|      3586|              32|              36|               30|\n",
      "|       319|           11770|           11577|             5143|\n",
      "|       346|           10597|           11505|             5272|\n",
      "|      3140|            9762|           10545|             4672|\n",
      "|       416|            1952|            1910|             1400|\n",
      "|      3498|             100|             106|               93|\n",
      "|       152|            4127|            4068|             2298|\n",
      "|      3073|             428|             447|              373|\n",
      "|      3121|             614|             632|              475|\n",
      "|       259|            8583|            8599|             3726|\n",
      "|      3283|            3989|            3654|             2244|\n",
      "|      3648|             951|             957|              664|\n",
      "|      3570|             281|             277|              229|\n",
      "|      3541|             330|             329|              267|\n",
      "|       280|            7680|            7877|             4237|\n",
      "|       348|            6363|            6705|             2632|\n",
      "|       168|           26617|           26757|             7822|\n",
      "|      3415|            1459|            1446|             1100|\n",
      "|       500|           10514|           10868|             4487|\n",
      "|      3497|             985|            1017|              739|\n",
      "|      3120|             808|             789|              562|\n",
      "|      3613|             473|             482|              355|\n",
      "|      3049|             615|             606|              484|\n",
      "|      3632|            5567|            5900|             2696|\n",
      "|      3075|             174|             160|              141|\n",
      "|      3135|            2594|            2623|             1836|\n",
      "|      3249|             609|             632|              518|\n",
      "|       279|           10789|           10676|             4734|\n",
      "|      3150|            2678|            2682|             1756|\n",
      "|      3369|             945|             924|              679|\n",
      "|      3341|            1627|            1530|             1127|\n",
      "|      3675|             287|             303|              231|\n",
      "|       347|           16947|           16954|             6061|\n",
      "|      3522|              95|              95|               83|\n",
      "|      3333|              71|              71|               64|\n",
      "|      3383|            5777|            5709|             3173|\n",
      "|      3330|             196|             192|              155|\n",
      "|       461|           16663|           16405|             6764|\n",
      "|      2004|            1177|            1142|              613|\n",
      "|      3671|             732|             739|              491|\n",
      "|       324|            4684|            5711|             2856|\n",
      "|      3658|            2864|            2854|             1385|\n",
      "|        72|           11087|           11019|             5025|\n",
      "|      3615|             532|             498|              390|\n",
      "|      3620|              22|              22|               19|\n",
      "|      3392|             281|             275|              220|\n",
      "|      3606|             135|             136|              114|\n",
      "|      3571|             365|             353|              283|\n",
      "|      3102|            1769|            1862|             1287|\n",
      "|      3647|              22|              21|               19|\n",
      "|      3563|             147|             141|              125|\n",
      "|       307|           13916|           14142|             6199|\n",
      "|       537|           20038|           19802|             6995|\n",
      "|      3513|             102|             101|               86|\n",
      "|       278|            1013|            1042|              783|\n",
      "|       445|           16635|           18914|             6476|\n",
      "|       161|           15505|           16392|             6417|\n",
      "|      3002|           26989|           26874|             7757|\n",
      "|      3373|            2307|            2233|             1605|\n",
      "|       238|            7243|            7866|             3833|\n",
      "|       244|            2323|            2254|             1579|\n",
      "|      3496|             711|             689|              550|\n",
      "|      3427|           21590|           21186|             7245|\n",
      "|      3158|           13667|           13067|             5829|\n",
      "|      3407|            1556|            1581|             1110|\n",
      "|      3397|            1206|            1169|              930|\n",
      "|      3516|             560|             584|              451|\n",
      "|      3052|             641|             615|              506|\n",
      "|       467|            4857|            4803|             2885|\n",
      "|      3357|            1929|            1897|             1382|\n",
      "|       312|           15107|           15948|             6766|\n",
      "|      3417|            2054|            2099|             1479|\n",
      "|       395|            1334|            1391|              914|\n",
      "|      3061|             193|             180|              167|\n",
      "|      3467|            6838|            7091|             2748|\n",
      "|      3644|             203|             211|              144|\n",
      "|      2012|           10475|            9818|             4745|\n",
      "|      3393|             167|             161|              143|\n",
      "|      3354|            3294|            3130|             1841|\n",
      "|      3478|             528|             489|              358|\n",
      "|       289|             477|             451|              372|\n",
      "|      3551|             105|             106|               96|\n",
      "|      3318|            3840|            4021|             2451|\n",
      "|       245|             745|             735|              586|\n",
      "|      3508|             994|            1011|              741|\n",
      "|      3510|             357|             372|              310|\n",
      "|      3219|               1|               3|                1|\n",
      "|      3560|             161|             161|              133|\n",
      "|      3580|             484|             475|              373|\n",
      "|       351|            5828|            5506|             2846|\n",
      "|      3576|            1246|            1227|              854|\n",
      "|       143|            5020|            4986|             2983|\n",
      "|      3564|              25|              25|               22|\n",
      "|      3241|             487|             512|              416|\n",
      "|       526|           14509|           14822|             6017|\n",
      "|      3322|             347|             345|              301|\n",
      "|      3599|             940|             928|              598|\n",
      "|      3165|           16367|           16493|             5310|\n",
      "|      3246|             459|             473|              298|\n",
      "|      3459|            5711|            5497|             2844|\n",
      "|       195|           12317|           12344|             5060|\n",
      "|       490|           31622|           31589|             8708|\n",
      "|      3255|           29357|           31040|             7839|\n",
      "|      3077|            1715|            1832|             1261|\n",
      "|      3525|              48|              52|               45|\n",
      "|      3311|            1319|            1412|              972|\n",
      "|       457|           24509|           23783|             7744|\n",
      "|      3396|            1264|            1276|              955|\n",
      "|      3338|             486|             463|              409|\n",
      "|       488|            4925|            5271|             2135|\n",
      "|      3041|             451|             436|              383|\n",
      "|       534|            4127|            3752|             2210|\n",
      "|      3559|              26|              26|               25|\n",
      "|       536|           13583|           12940|             5957|\n",
      "|      3424|             370|             380|              326|\n",
      "|      3342|             277|             304|              237|\n",
      "|       369|            7498|            8226|             4183|\n",
      "|       150|            5798|            6303|             3192|\n",
      "|       260|            2192|            1990|             1271|\n",
      "|      3347|             867|             919|              669|\n",
      "|       116|            7327|            7257|             3280|\n",
      "|      3680|            2848|            2929|             1092|\n",
      "|      3604|             135|             140|              117|\n",
      "|      3078|            2719|            2717|             1878|\n",
      "|       349|            3964|            4255|             2502|\n",
      "|       344|            1242|            1164|              935|\n",
      "|       454|            4816|            4709|             2831|\n",
      "|       373|             533|             526|              439|\n",
      "|      3113|            3602|            3698|             2387|\n",
      "|       119|             180|             175|              154|\n",
      "|      3447|            2825|            2851|             1735|\n",
      "|      3107|            6474|            6488|             3673|\n",
      "|      3536|            1137|            1049|              781|\n",
      "|      3344|            1047|            1094|              698|\n",
      "|       365|            1327|            1290|              993|\n",
      "|      3224|           14054|           14721|             5257|\n",
      "|      3617|             189|             206|              161|\n",
      "|      3348|             612|             656|              469|\n",
      "|      3315|            2466|            2622|             1687|\n",
      "|      3312|            2121|            2228|             1500|\n",
      "|       275|            1048|            1031|              805|\n",
      "|      2017|             767|             853|              433|\n",
      "|      3464|            1228|            1279|              535|\n",
      "|       252|            9864|           10215|             4910|\n",
      "|       153|            7132|            6689|             2511|\n",
      "|      3308|            1416|            1423|             1037|\n",
      "|      2002|            9048|            9336|             4682|\n",
      "|      3148|            3047|            3273|             1891|\n",
      "|       468|           15983|           16007|             6180|\n",
      "|      3368|            2598|            2723|             1797|\n",
      "|      3568|             270|             276|              234|\n",
      "|      3376|            2483|            2469|             1724|\n",
      "+----------+----------------+----------------+-----------------+\n",
      "\n"
     ]
    }
   ],
   "source": [
    "qccheck.show(180)"
   ]
  },
  {
   "cell_type": "code",
   "execution_count": null,
   "metadata": {},
   "outputs": [],
   "source": []
  },
  {
   "cell_type": "markdown",
   "metadata": {},
   "source": []
  },
  {
   "cell_type": "code",
   "execution_count": null,
   "metadata": {},
   "outputs": [],
   "source": []
  },
  {
   "cell_type": "markdown",
   "metadata": {},
   "source": [
    "## Code after this cell has been moved to other notebooks"
   ]
  },
  {
   "cell_type": "code",
   "execution_count": null,
   "metadata": {},
   "outputs": [],
   "source": []
  },
  {
   "cell_type": "code",
   "execution_count": null,
   "metadata": {},
   "outputs": [],
   "source": []
  },
  {
   "cell_type": "code",
   "execution_count": null,
   "metadata": {},
   "outputs": [],
   "source": [
    "\n"
   ]
  },
  {
   "cell_type": "code",
   "execution_count": null,
   "metadata": {},
   "outputs": [],
   "source": []
  },
  {
   "cell_type": "code",
   "execution_count": null,
   "metadata": {},
   "outputs": [],
   "source": []
  },
  {
   "cell_type": "code",
   "execution_count": null,
   "metadata": {},
   "outputs": [],
   "source": []
  },
  {
   "cell_type": "code",
   "execution_count": null,
   "metadata": {},
   "outputs": [],
   "source": []
  }
 ],
 "metadata": {
  "kernelspec": {
   "display_name": "Python 3",
   "language": "python",
   "name": "python3"
  },
  "language_info": {
   "codemirror_mode": {
    "name": "ipython",
    "version": 3
   },
   "file_extension": ".py",
   "mimetype": "text/x-python",
   "name": "python",
   "nbconvert_exporter": "python",
   "pygments_lexer": "ipython3",
   "version": "3.7.0"
  },
  "name": "Citibike NYC Sampled - Geocoding - Distance",
  "notebookId": 3563326345539110
 },
 "nbformat": 4,
 "nbformat_minor": 1
}
